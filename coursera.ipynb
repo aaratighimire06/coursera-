{
  "nbformat": 4,
  "nbformat_minor": 0,
  "metadata": {
    "colab": {
      "provenance": [],
      "authorship_tag": "ABX9TyPberGux9x64WBUq7ZDH95K",
      "include_colab_link": true
    },
    "kernelspec": {
      "name": "python3",
      "display_name": "Python 3"
    },
    "language_info": {
      "name": "python"
    }
  },
  "cells": [
    {
      "cell_type": "markdown",
      "metadata": {
        "id": "view-in-github",
        "colab_type": "text"
      },
      "source": [
        "<a href=\"https://colab.research.google.com/github/aaratighimire06/coursera-/blob/main/coursera.ipynb\" target=\"_parent\"><img src=\"https://colab.research.google.com/assets/colab-badge.svg\" alt=\"Open In Colab\"/></a>"
      ]
    },
    {
      "cell_type": "code",
      "execution_count": 4,
      "metadata": {
        "id": "7HQF4MY89Cp_"
      },
      "outputs": [],
      "source": [
        "Text = \"GCGCG\"\n",
        "Pattern = \"GCG\"\n",
        "\n",
        "\n",
        "def PatternCount(Text, Pattern):\n",
        "    count = 0\n",
        "    for i in range(len(Text)-len(Pattern)+1):\n",
        "        if Text[i:i+len(Pattern)] == Pattern:\n",
        "            count = count+1\n",
        "    return count\n",
        "\n",
        "#we have written a function to count the pattern.\n",
        "#"
      ]
    }
  ]
}