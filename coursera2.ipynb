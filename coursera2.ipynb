{
  "nbformat": 4,
  "nbformat_minor": 0,
  "metadata": {
    "colab": {
      "provenance": [],
      "authorship_tag": "ABX9TyNPQqjGW6XEaToVIPw/aq1B",
      "include_colab_link": true
    },
    "kernelspec": {
      "name": "python3",
      "display_name": "Python 3"
    },
    "language_info": {
      "name": "python"
    }
  },
  "cells": [
    {
      "cell_type": "markdown",
      "metadata": {
        "id": "view-in-github",
        "colab_type": "text"
      },
      "source": [
        "<a href=\"https://colab.research.google.com/github/aaratighimire06/coursera-/blob/main/coursera2.ipynb\" target=\"_parent\"><img src=\"https://colab.research.google.com/assets/colab-badge.svg\" alt=\"Open In Colab\"/></a>"
      ]
    },
    {
      "cell_type": "code",
      "execution_count": 1,
      "metadata": {
        "id": "GeLvgu9Z_9sN"
      },
      "outputs": [],
      "source": [
        "def FrequencyMap(Text, k):\n",
        "    freq = {}  #start with a blank dictionary named “freq”\n",
        "    n = len(Text)  #n is set to the length of the text genome\n",
        "    for i in range(n - k + 1):  #for a certain index in the range of 0 to (14-3+1 = 12)\n",
        "        kmer = Text[i:i + k] #defining a variable, e.g., index 0 up to but not including index (0+3=3) so first Pattern = CGA\n",
        "        if kmer in freq:\n",
        "            freq[kmer] += 1\n",
        "        else:\n",
        "            freq[kmer] = 1\n",
        "    return freq\n",
        "def FrequentWords(Text, k):\n",
        "    words = []\n",
        "    freq = FrequencyMap(Text, k)\n",
        "    m = max(freq.values())\n",
        "    for key in freq:\n",
        "        if freq[key] == m:\n",
        "            words.append(key)\n",
        "    return words"
      ]
    }
  ]
}