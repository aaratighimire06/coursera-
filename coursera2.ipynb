{
  "nbformat": 4,
  "nbformat_minor": 0,
  "metadata": {
    "colab": {
      "provenance": [],
      "authorship_tag": "ABX9TyNr21M4+R6UDscKwKaxjoFK",
      "include_colab_link": true
    },
    "kernelspec": {
      "name": "python3",
      "display_name": "Python 3"
    },
    "language_info": {
      "name": "python"
    }
  },
  "cells": [
    {
      "cell_type": "markdown",
      "metadata": {
        "id": "view-in-github",
        "colab_type": "text"
      },
      "source": [
        "<a href=\"https://colab.research.google.com/github/aaratighimire06/coursera-/blob/main/coursera2.ipynb\" target=\"_parent\"><img src=\"https://colab.research.google.com/assets/colab-badge.svg\" alt=\"Open In Colab\"/></a>"
      ]
    },
    {
      "cell_type": "code",
      "execution_count": 1,
      "metadata": {
        "id": "GeLvgu9Z_9sN"
      },
      "outputs": [],
      "source": [
        "def FrequencyMap(Text, k):\n",
        "    freq = {}  #start with a blank dictionary named “freq”\n",
        "    n = len(Text)  #n is set to the length of the text genome\n",
        "    for i in range(n - k + 1):  #for a certain index in the range of 0 to (14-3+1 = 12)\n",
        "        kmer = Text[i:i + k] #defining a variable, e.g., index 0 up to but not including index (0+3=3) so first Pattern = CGA\n",
        "        if kmer in freq:\n",
        "            freq[kmer] += 1\n",
        "        else:\n",
        "            freq[kmer] = 1\n",
        "    return freq\n",
        "def FrequentWords(Text, k):\n",
        "    words = []\n",
        "    freq = FrequencyMap(Text, k)\n",
        "    m = max(freq.values())\n",
        "    for key in freq:\n",
        "        if freq[key] == m:\n",
        "            words.append(key)\n",
        "    return words"
      ]
    },
    {
      "cell_type": "code",
      "source": [
        "def FrequencyMap(Text, k):\n",
        "    freq = {}       #start with a blank dictionary named “freq”\n",
        "    n = len(Text)  #n is set to the length of the text genome\n",
        "    for i in range(n-k+1):  #for a certain index in the range of 0 to (14-3+1 = 12)\n",
        "        Pattern = Text[i:i+k] #defining a variable, e.g., index 0 up to but not including index (0+3=3) so first Pattern = CGA\n",
        "        freq[Pattern] = 0  #adding a new key to the dictionary “freq”, and setting its value to zero\n",
        "\n",
        "    for i in range(n-k+1):  #for a certain index in the range of 0 to (14-3+1 = 12)\n",
        "        Pattern=Text[i:i+k] #defining a variable, e.g., index 0 up to but not including index (0+3=3) so first Pattern = CGA\n",
        "        freq[Pattern]+= 1 #e.g., in the dictionary “freq,” for key CGA, increase the value of CGA by one\n",
        "    return freq"
      ],
      "metadata": {
        "id": "IAP8gXw6A8Xa"
      },
      "execution_count": 4,
      "outputs": []
    }
  ]
}