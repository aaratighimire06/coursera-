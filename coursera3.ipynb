{
  "nbformat": 4,
  "nbformat_minor": 0,
  "metadata": {
    "colab": {
      "provenance": [],
      "authorship_tag": "ABX9TyNcM9QKZU5x34Pe2k/nixQI",
      "include_colab_link": true
    },
    "kernelspec": {
      "name": "python3",
      "display_name": "Python 3"
    },
    "language_info": {
      "name": "python"
    }
  },
  "cells": [
    {
      "cell_type": "markdown",
      "metadata": {
        "id": "view-in-github",
        "colab_type": "text"
      },
      "source": [
        "<a href=\"https://colab.research.google.com/github/aaratighimire06/coursera-/blob/main/coursera3.ipynb\" target=\"_parent\"><img src=\"https://colab.research.google.com/assets/colab-badge.svg\" alt=\"Open In Colab\"/></a>"
      ]
    },
    {
      "cell_type": "code",
      "execution_count": 1,
      "metadata": {
        "id": "6hK8mOa1JovZ"
      },
      "outputs": [],
      "source": [
        "input = \"AAAACCCGGT\"\n",
        "output = \"TGGCCCAAAA\"\n",
        "def Reverse(Pattern):\n",
        "    rev = \"\"\n",
        "    for char in Pattern:\n",
        "        rev = char + rev.   # a function that takes a string and reverse characters from that string.\n",
        "    return rev\n"
      ]
    }
  ]
}